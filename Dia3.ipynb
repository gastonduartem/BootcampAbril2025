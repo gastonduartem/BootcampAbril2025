{
 "cells": [
  {
   "cell_type": "code",
   "execution_count": null,
   "id": "45c68bb1",
   "metadata": {},
   "outputs": [
    {
     "name": "stdout",
     "output_type": "stream",
     "text": [
      "Hola\n"
     ]
    }
   ],
   "source": [
    "# Ejercicio 1\n",
    "# Crear una funcion que imprima la variable palabra\n",
    "\n",
    "def imprimir_palabra():\n",
    "    palabra = \"Hola\"\n",
    "    print(palabra)\n",
    "\n",
    "imprimir_palabra()"
   ]
  },
  {
   "cell_type": "code",
   "execution_count": null,
   "id": "ed07fce2",
   "metadata": {},
   "outputs": [
    {
     "name": "stdout",
     "output_type": "stream",
     "text": [
      "Las letras son iguales\n"
     ]
    }
   ],
   "source": [
    "# Ejercicio 2\n",
    "# Crear una funcion que reciba dos letras (como parametros), que verifique si son iguales o diferentes, e imprima la conclusion\n",
    "\n",
    "def comparacion_letras (letra1, letra2):\n",
    "    if letra1 != letra2:\n",
    "        print(\"Las letras son diferentes\")\n",
    "    else:\n",
    "        print(\"Las letras son iguales\")\n",
    "\n",
    "comparacion_letras(\"j\",\"j\")"
   ]
  },
  {
   "cell_type": "code",
   "execution_count": null,
   "id": "10c06a22",
   "metadata": {},
   "outputs": [],
   "source": [
    "# Ejercicio 3\n",
    "# Crear una funcion que reciba dos parametros (una letra y un numero), y que retorne True si el numero es igual a la cantidad de letras. En caso contrario que retorne False\n",
    "\n",
    "def comparacion (palabra, numero):\n",
    "    cantidad_letras = len(palabra)\n",
    "    numero = int(numero)\n",
    "    if numero == cantidad_letras:\n",
    "        return True\n",
    "    else:\n",
    "        return False\n",
    "\n",
    "palabra1 = input(\"Ingrese una palabra\")\n",
    "numero1 = input(\"Ingrese un numero\")\n",
    "\n",
    "resultado_final = comparacion(palabra1,numero1)\n",
    "\n",
    "print(resultado_final)\n",
    "\n",
    "\n"
   ]
  },
  {
   "cell_type": "code",
   "execution_count": null,
   "id": "35727828",
   "metadata": {},
   "outputs": [
    {
     "name": "stdout",
     "output_type": "stream",
     "text": [
      "[['h', 'o', 'l', 'a']]\n",
      "[['h', 'o', 'l', 'a'], ['q', 'u', 'e']]\n",
      "[['h', 'o', 'l', 'a'], ['q', 'u', 'e'], ['t', 'a', 'l']]\n"
     ]
    }
   ],
   "source": [
    "# Ejercicio 4\n",
    "# Pedir al usuario que ingrese 1 palabra, luego convertir esa palabra a una lista con sus caracteres con list(). Agregar esa lista de caracteres a una lista llamada palabras_ingresadas. Repetir el proceso 3 veces. Cada vez que se agregue una lista de caracteres, imprimir la lista palabras_ingresadas.\n",
    "\n",
    "palabra1 = input(\"Ingrese una palabra\")\n",
    "lista_palabra1 = list(palabra1)\n",
    "palabras_ingresadas = [lista_palabra1]\n",
    "print(palabras_ingresadas)\n",
    "\n",
    "palabra2 = input(\"Ingrese otra palabra\")\n",
    "lista_de_palabras2 = list(palabra2)\n",
    "palabras_ingresadas.append(lista_de_palabras2)\n",
    "print(palabras_ingresadas)\n",
    "\n",
    "palabra3 = input(\"Ingrese otra palabra\")\n",
    "lista_de_palabras3 = list(palabra3)\n",
    "palabras_ingresadas.append(lista_de_palabras3)\n",
    "print(palabras_ingresadas)\n",
    "\n",
    "\n"
   ]
  },
  {
   "cell_type": "code",
   "execution_count": null,
   "id": "5b173a95",
   "metadata": {},
   "outputs": [
    {
     "name": "stdout",
     "output_type": "stream",
     "text": [
      "[['O', 'l', 'i', 'm', 'p', 'i', 'a']]\n",
      "[['O', 'l', 'i', 'm', 'p', 'i', 'a'], ['v', 's']]\n",
      "[['O', 'l', 'i', 'm', 'p', 'i', 'a'], ['v', 's'], ['C', 'e', 'r', 'r', 'o']]\n"
     ]
    }
   ],
   "source": [
    "palabra1 = input(\"Ingrese una palabra\")\n",
    "lista_palabra1 = list(palabra1)\n",
    "palabras_ingresadas = [lista_palabra1]\n",
    "print(palabras_ingresadas)\n",
    "\n",
    "for i in range (2):\n",
    "    palabra3 = input(\"Ingrese otra palabra\")\n",
    "    lista_de_palabras3 = list(palabra3)\n",
    "    palabras_ingresadas.append(lista_de_palabras3)\n",
    "    print(palabras_ingresadas)\n"
   ]
  },
  {
   "cell_type": "code",
   "execution_count": null,
   "id": "df5ad27a",
   "metadata": {},
   "outputs": [
    {
     "name": "stdout",
     "output_type": "stream",
     "text": [
      "['h', 'o', 'l', 'i', 's']\n",
      "['h', 'e', 'l', 'l', 'o']\n",
      "['h', 'a', 'l', 'l', 'o']\n"
     ]
    }
   ],
   "source": [
    "# Ejercicio 5\n",
    "# Dada la lista del ejemplo \"lista\"\n",
    "# Crear una función que imprima una grilla (lista de listas), una línea por cada lista dentro de la lista principal.\n",
    "\n",
    "\n",
    "lista = [['h', 'o', 'l', 'i', 's'], ['h', 'e', 'l', 'l', 'o'], ['h', 'a', 'l', 'l', 'o']]\n",
    "\n",
    "def separador_elementos():\n",
    "    for elementos in lista:\n",
    "        print(elementos)\n",
    "\n",
    "separador_elementos()"
   ]
  },
  {
   "cell_type": "code",
   "execution_count": null,
   "id": "18fc7727",
   "metadata": {},
   "outputs": [],
   "source": [
    "# Bloque de la funcion\n",
    "\n"
   ]
  },
  {
   "cell_type": "code",
   "execution_count": null,
   "id": "b70b3f88",
   "metadata": {},
   "outputs": [
    {
     "name": "stdout",
     "output_type": "stream",
     "text": [
      "Te quedan 6 intentos amigo.\n",
      "Ingrese una palabra de 5 letras!!! Te queda un intento menos por boludo\n",
      "Te quedan 5 intentos amigo.\n",
      "Ingrese una palabra de 5 letras!!! Te queda un intento menos por boludo\n",
      "Te quedan 4 intentos amigo.\n",
      "Te quedan 3 intentos amigo.\n",
      "Adivinaste la palabra! La palabra era huevo\n"
     ]
    }
   ],
   "source": [
    "# Ejercicio 6\n",
    "# Lograr hacer el Wordle\n",
    "\n",
    "intentos = 6\n",
    "palabra_secreta = input(\"Ingrese una palabra de 5 letras para el juego\")\n",
    "cantidad_de_letras = 5\n",
    "\n",
    "while intentos > 0:\n",
    "\n",
    "    if cantidad_de_letras != len(palabra_secreta):\n",
    "        print(\"Ingrese una palabra de 5 letras\")\n",
    "\n",
    "    palabra_ingresada = input(\"Ingrese una palabra de 5 letras para adivinar la palabra secreta\")\n",
    "\n",
    "    if len(palabra_ingresada) != cantidad_de_letras:\n",
    "        print(\"Ingrese una palabra de 5 letras!!! Te queda un intento menos por boludo\")\n",
    "\n",
    "    \n",
    "\n",
    "    if palabra_ingresada == palabra_secreta:\n",
    "        print(f\"Adivinaste la palabra! La palabra era {palabra_secreta}\")\n",
    "        break\n",
    "    print(f\"Te quedan {intentos} intentos amigo.\")\n",
    "    intentos = intentos - 1\n",
    "\n",
    "\n",
    "\n",
    "\n"
   ]
  },
  {
   "cell_type": "code",
   "execution_count": null,
   "id": "c396509f",
   "metadata": {},
   "outputs": [],
   "source": [
    "#Wordle\n",
    "\n",
    "# juego de wordle\n",
    "# inputs del juego\n",
    "# vamos a tener un matriz de 6*5\n",
    "# Tenemos 6 listas vacias\n",
    "# Tenemos una palabra 5 caracteres\n",
    "\n",
    "def obtener_fila_verificada(palabra_a_encontrar, palabra_secreta):\n",
    "    #segundo paso: definir la cantidad de letras de la palabra a encontrar\n",
    "    cantidad_de_letras_de_la_palabra_a_encontrar = 5\n",
    "\n",
    "    #tercer paso crear una lista vacia para guardar las letras verificadas \n",
    "    letras_verificadas = []\n",
    "\n",
    "    #cuarto paso: se recorre cada posicion de la palabra \n",
    "    for posicion in range(cantidad_de_letras_de_la_palabra_a_encontrar):\n",
    "        #quinto paso: comaparar las letras en la misma posicion \n",
    "        las_letras_son_iguales =  palabra_a_encontrar[posicion] == palabra_secreta[posicion]\n",
    "\n",
    "        #sexto paso: verifica si la letra existe en la palabra \n",
    "        la_letra_existe_enla_palabra = palabra_secreta[posicion] in palabra_a_encontrar\n",
    "\n",
    "        if las_letras_son_iguales:\n",
    "            letras_verificadas.append('('+ palabra_secreta[posicion] + ' )Coincide con posicion')\n",
    "        elif la_letra_existe_enla_palabra:\n",
    "            letras_verificadas.append('('+ palabra_secreta[posicion] + ' )Coincide pero no la posicion')\n",
    "        else:\n",
    "            letras_verificadas.append(palabra_secreta[posicion])\n",
    "    return letras_verificadas\n",
    "\n",
    "intentos = 6\n",
    "while intentos > 0:\n",
    "    print(f'Te quedan {intentos} intentos')\n",
    "    palabra_secreta = input(\"Ingrese una palabra de 5 letras\")\n",
    "    palabra_secreta.lower()\n",
    "\n",
    "    obtener_fila_verificada()\n",
    "\n",
    "    palabra_a_encontrar = input('Ingresa una palabra de 5 letras')\n",
    "    palabra_secreta.lower()\n",
    "    linea_verificada = obtener_fila_verificada(palabra_a_encontrar, palabra_secreta)\n",
    "    print(linea_verificada)\n",
    "\n",
    "    intentos = intentos -1\n",
    "print('Te quedaste sin intentos')\n"
   ]
  },
  {
   "cell_type": "code",
   "execution_count": null,
   "id": "1ff6a677",
   "metadata": {},
   "outputs": [
    {
     "name": "stdout",
     "output_type": "stream",
     "text": [
      "Bienvenido al juego. Hay una palabra secreta de 5 letras, la cual tenes que intentar adivinar. Tranqui que a medida que vayas intentando, te vamos a dar pistas. TENES 6 INTENTOS, no los desperdicies.\n",
      "Las pistas son las siguientes:\n",
      "- Las letras que esten en (), significa que la letra esta en la palabra, pero no en esa posicion\n",
      "- Las letras que esten en [], significa que la letra esta en la posicion correcta.\n",
      "- Las que no tengan nada, significa que la palabra no esta en la palabra.\n",
      "Exitos!!\n"
     ]
    },
    {
     "name": "stdout",
     "output_type": "stream",
     "text": [
      "['h', 'u', '(e)', 'v', '(o)']\n",
      "Te quedan 5 intentos.\n",
      "['h', 'u', 'e', 'v', '(o)']\n",
      "Te quedan 4 intentos.\n",
      "['[h]', '[u]', '[e]', '[v]', '[o]']\n",
      "Felicidades, ganaste!! La palabra secreta era huevo\n",
      "Te quedaste sin intentos.\n"
     ]
    }
   ],
   "source": [
    "# WORDLE\n",
    "\n",
    "print(\"Bienvenido al juego. Hay una palabra secreta de 5 letras, la cual tenes que intentar adivinar.\")\n",
    "print(\"Tranqui que a medida que vayas intentando, te vamos a dar pistas. TENES 6 INTENTOS, no los desperdicies.\")\n",
    "print(\"Las pistas son las siguientes:\")\n",
    "print(\"- Las letras que esten en (), significa que la letra esta en la palabra, pero no en esa posicion\")\n",
    "print(\"- Las letras que esten en [], significa que la letra esta en la posicion correcta.\")\n",
    "print(\"- Las que no tengan nada, significa que la palabra no esta en la palabra.\")\n",
    "print(\"Exitos!!\")\n",
    "\n",
    "def verificador_de_letras_y_posiciones (palabra_secreta,intento_adivinanza):\n",
    "\n",
    "    for posicion in range(cantidad_de_letras):\n",
    "\n",
    "        letras_iguales = palabra_secreta[posicion] == intento_adivinanza [posicion]\n",
    "\n",
    "        existencia_letra = palabra_secreta[posicion] in intento_adivinanza\n",
    "\n",
    "        if letras_iguales:\n",
    "            lista_almacenamiento_palabras.append(\"[\" + palabra_secreta[posicion] + \"]\")\n",
    "        elif existencia_letra:\n",
    "            lista_almacenamiento_palabras.append(\"(\" + palabra_secreta[posicion] + \")\")\n",
    "        else:\n",
    "            lista_almacenamiento_palabras.append(palabra_secreta[posicion])\n",
    "    return lista_almacenamiento_palabras\n",
    "\n",
    "def verificador_de_victoria(palabra_secreta,intento_adivinanza):\n",
    "    return palabra_secreta == intento_adivinanza\n",
    "\n",
    "\n",
    "\n",
    "\n",
    "\n",
    "\n",
    "\n",
    "intentos = 6\n",
    "cantidad_de_letras = 5\n",
    "\n",
    "while True:\n",
    "    palabra_secreta = input(\"Ingrese una palabra secreta de 5 letras para el juego.\")\n",
    "    palabra_secreta = palabra_secreta.lower()\n",
    "    if cantidad_de_letras != len(palabra_secreta):\n",
    "        palabra_secreta = input(\"Ingrese una palabra de 5 letras\")\n",
    "    else:\n",
    "        break\n",
    "\n",
    "while intentos > 0:\n",
    "\n",
    "    lista_almacenamiento_victoria = []\n",
    "    lista_almacenamiento_palabras = []\n",
    "\n",
    "    intento_adivinanza = input(\"Ingrese una palabra de 5 letras\")\n",
    "    if len(intento_adivinanza) != cantidad_de_letras:\n",
    "        print('Ingresa una palabra de 5 letras. Ya perdiste una oportunidad por boludo.')\n",
    "        continue\n",
    "    \n",
    "    intento_adivinanza = intento_adivinanza.lower()\n",
    "\n",
    "    pistas = verificador_de_letras_y_posiciones(palabra_secreta, intento_adivinanza)\n",
    "    print(pistas)\n",
    "\n",
    "    if verificador_de_victoria(palabra_secreta, intento_adivinanza):\n",
    "        print(f\"Felicidades, ganaste!! La palabra secreta era {palabra_secreta}\")\n",
    "        break\n",
    "\n",
    "    intentos = intentos -1\n",
    "    print(f\"Te quedan {intentos} intentos.\")\n",
    "print(\"Te quedaste sin intentos.\")"
   ]
  }
 ],
 "metadata": {
  "kernelspec": {
   "display_name": ".venv",
   "language": "python",
   "name": "python3"
  },
  "language_info": {
   "codemirror_mode": {
    "name": "ipython",
    "version": 3
   },
   "file_extension": ".py",
   "mimetype": "text/x-python",
   "name": "python",
   "nbconvert_exporter": "python",
   "pygments_lexer": "ipython3",
   "version": "3.12.3"
  }
 },
 "nbformat": 4,
 "nbformat_minor": 5
}
