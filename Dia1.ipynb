{
 "cells": [
  {
   "cell_type": "code",
   "execution_count": 1,
   "id": "db6c273b",
   "metadata": {},
   "outputs": [
    {
     "name": "stdout",
     "output_type": "stream",
     "text": [
      "Hola mundo\n"
     ]
    }
   ],
   "source": [
    "print(\"Hola mundo\")"
   ]
  },
  {
   "cell_type": "code",
   "execution_count": null,
   "id": "8fe2ff24",
   "metadata": {},
   "outputs": [
    {
     "name": "stdout",
     "output_type": "stream",
     "text": [
      "80\n",
      "29\n"
     ]
    }
   ],
   "source": [
    "# Se calcula y muestra la cantidad de frutas previa a la jornada\n",
    "cantidad_de_manzanas = 36\n",
    "cantidad_de_naranjas = 44\n",
    "cantidad_de_frutas = cantidad_de_manzanas + cantidad_de_naranjas\n",
    "print(cantidad_de_frutas)\n",
    "\n",
    "# Se calcula y muestra las frutas restantes luego de la jornada\n",
    "frutas_vendidas = 51\n",
    "frutas_restantes = cantidad_de_frutas - frutas_vendidas\n",
    "print(frutas_restantes)"
   ]
  },
  {
   "cell_type": "code",
   "execution_count": null,
   "id": "175c7c72",
   "metadata": {},
   "outputs": [
    {
     "name": "stdout",
     "output_type": "stream",
     "text": [
      "Hola, mi nombre es Gabriel Raidan. Participo del CodePro 2025.\n"
     ]
    }
   ],
   "source": [
    "# Se asigna los nombres de mi compañero a variables y se utiliza en una oracion\n",
    "nombre = \"Gabriel\"\n",
    "apellido = \"Raidán\"\n",
    "print(f\"Hola, mi nombre es {nombre} {apellido}. Participo del CodePro 2025.\")"
   ]
  },
  {
   "cell_type": "code",
   "execution_count": null,
   "id": "af1d5557",
   "metadata": {},
   "outputs": [
    {
     "name": "stdout",
     "output_type": "stream",
     "text": [
      "La suma de ambos numeros es 100\n"
     ]
    }
   ],
   "source": [
    "# Se solicita al usuario 2 numeros y se realiza y muestra la suma de ambos\n",
    "numero1 = int(input(\"Ingrese un numero\"))\n",
    "numero2 = int(input(\"Ingrese otro numero\"))\n",
    "suma= numero1 + numero2\n",
    "print(f\"La suma de ambos numeros es {suma}\")"
   ]
  },
  {
   "cell_type": "code",
   "execution_count": null,
   "id": "edcc8248",
   "metadata": {},
   "outputs": [
    {
     "name": "stdout",
     "output_type": "stream",
     "text": [
      "El nombre sería 54, el numero de RUC sería 54 y el total a cobrarle al cliente sería 54.0. El IVA sería 5.94.\n"
     ]
    }
   ],
   "source": [
    "# Crear una función de un proceso que tenga varios pasos y repetir 3 veces\n",
    "def factura_y_total_a_pagar():\n",
    "    nombre_factura = input(\"Introduzca el nombre y apellido para la factura\")\n",
    "    numero_factura = input(\"Introduzca el numero de RUC para la factura\")\n",
    "    monto_total = float(input(\"Introduzca el monto total a ser cobrado\"))\n",
    "    monto_iva = float(monto_total*(0.11))\n",
    "    print(f\"El nombre sería {nombre_factura}, el numero de RUC sería {numero_factura} y el total a cobrarle al cliente sería {monto_total}. El IVA sería {monto_iva}.\")\n",
    "\n",
    "\n",
    "\n",
    "factura_y_total_a_pagar()\n",
    "factura_y_total_a_pagar()\n",
    "factura_y_total_a_pagar()"
   ]
  },
  {
   "cell_type": "code",
   "execution_count": null,
   "id": "5d9eb826",
   "metadata": {},
   "outputs": [
    {
     "name": "stdout",
     "output_type": "stream",
     "text": [
      "El elemento es auto, y las caracteristicas del auto son rojo, consume 11 litros cada 100 km, motor 1.8.\n"
     ]
    }
   ],
   "source": [
    "# Hacer una funcion con un elemento, agregar las caracteristicas e imprimir\n",
    "def elementos(caracteristicas):\n",
    "    elemento=\"auto\"\n",
    "    print(f\"El elemento es {elemento}, y las caracteristicas del auto son {caracteristicas}\")\n",
    "\n",
    "elementos(\"rojo, consume 11 litros cada 100 km, motor 1.8.\")\n"
   ]
  },
  {
   "cell_type": "code",
   "execution_count": 8,
   "id": "1fa7f94a",
   "metadata": {},
   "outputs": [
    {
     "name": "stdout",
     "output_type": "stream",
     "text": [
      "El nombre y apellido para la factura es Gaston Duarte\n",
      "El numero de RUC para la factura es 7891235-9\n",
      "El monto total a ser cobrado es 100000\n",
      "El nombre sería Gaston Duarte, el numero de RUC sería 7891235-9 y el total a cobrarle al cliente sería 100000.0. El IVA sería 11000.0.\n"
     ]
    }
   ],
   "source": [
    "def factura_y_total_a_pagar(nombre_factura,numero_factura,monto_total):\n",
    "    print(f\"El nombre y apellido para la factura es {nombre_factura}\")\n",
    "    print(f\"El numero de RUC para la factura es {numero_factura}\")\n",
    "    print(f\"El monto total a ser cobrado es {monto_total}\")\n",
    "    monto_total=float(monto_total)\n",
    "    monto_iva = float(monto_total*(0.11))\n",
    "    print(f\"El nombre sería {nombre_factura}, el numero de RUC sería {numero_factura} y el total a cobrarle al cliente sería {monto_total}. El IVA sería {monto_iva}.\")\n",
    "\n",
    "factura_y_total_a_pagar(\"Gaston Duarte\", \"7891235-9\",\"100000\")"
   ]
  }
 ],
 "metadata": {
  "kernelspec": {
   "display_name": ".venv",
   "language": "python",
   "name": "python3"
  },
  "language_info": {
   "codemirror_mode": {
    "name": "ipython",
    "version": 3
   },
   "file_extension": ".py",
   "mimetype": "text/x-python",
   "name": "python",
   "nbconvert_exporter": "python",
   "pygments_lexer": "ipython3",
   "version": "3.12.3"
  }
 },
 "nbformat": 4,
 "nbformat_minor": 5
}
