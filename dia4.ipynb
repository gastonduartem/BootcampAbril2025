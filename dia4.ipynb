{
 "cells": [
  {
   "cell_type": "code",
   "execution_count": null,
   "id": "b99d9cf8",
   "metadata": {},
   "outputs": [
    {
     "name": "stdout",
     "output_type": "stream",
     "text": [
      "{}\n",
      "{'nombre': 'Gaston'}\n",
      "{'nombre': 'Gaston', 'apellido': 'Duarte'}\n",
      "{'nombre': 'Gaston', 'apellido': 'Duarte', 'Edad': 25}\n",
      "{'nombre': 'Gaston', 'apellido': 'Duarte', 'Edad': 25, 'telefono': 981819662}\n",
      "{'nombre': 'Gaston', 'apellido': 'Duarte', 'Edad': 25, 'telefono': 981819662, 'sexo': 'Masculino'}\n",
      "{'nombre': 'Gaston', 'apellido': 'Duarte', 'Edad': 25, 'telefono': 981819662, 'sexo': 'Masculino', 'correo electronico': 'gastonduarte@hotmail.com'}\n",
      "{'nombre': 'Gaston', 'apellido': 'Duarte', 'Edad': 25, 'telefono': 981819662, 'sexo': 'Masculino', 'correo electronico': 'gastonduarte@hotmail.com', 'profesion': 'Estudiante'}\n"
     ]
    }
   ],
   "source": [
    "# Escribir un programa que cree un diccionario vacio y lo vaya llenando con una informacion sobre un persona que se le pida al usuario. Cada vez que se añada un dato, debe imprimirse el contenido del dicionario.\n",
    "\n",
    "datos_personales = {}\n",
    "\n",
    "nombre_usua = input(\"Cual es su nombre?\")\n",
    "apellido_usua = input(\"Cual es su apellido?\")\n",
    "edad_usua = int(input(\"Cual es su edad?\"))\n",
    "telefono_usua = int(input(\"Cual es su numero de telefono? (ingrese sin el 0 inicial)\"))\n",
    "sexo_usua = input(\"Cual es su sexo?\")\n",
    "correo_usua = input(\"Cual es su correo electronico?\")\n",
    "profesion_usua = input(\"A que se dedica en el ambito profesional?\")\n",
    "\n",
    "datos_personales[\"nombre\"] = nombre_usua\n",
    "print (datos_personales)\n",
    "\n",
    "datos_personales[\"apellido\"] = apellido_usua\n",
    "print (datos_personales)\n",
    "\n",
    "datos_personales[\"Edad\"] = edad_usua\n",
    "print (datos_personales)\n",
    "\n",
    "datos_personales[\"telefono\"] = telefono_usua\n",
    "print (datos_personales)\n",
    "\n",
    "datos_personales[\"sexo\"] = sexo_usua\n",
    "print (datos_personales)\n",
    "\n",
    "datos_personales[\"correo electronico\"] = correo_usua\n",
    "print (datos_personales)\n",
    "\n",
    "datos_personales[\"profesion\"] = profesion_usua\n",
    "print (datos_personales)"
   ]
  },
  {
   "cell_type": "code",
   "execution_count": 7,
   "id": "f476214c",
   "metadata": {},
   "outputs": [
    {
     "name": "stdout",
     "output_type": "stream",
     "text": [
      "{'nombre': 'gaston'}\n",
      "{'nombre': 'gaston', 'apellido': 'duarte'}\n",
      "{'nombre': 'gaston', 'apellido': 'duarte', 'edad': '25'}\n",
      "{'nombre': 'gaston', 'apellido': 'duarte', 'edad': '25', 'sexo': 'masculino'}\n",
      "{'nombre': 'gaston', 'apellido': 'duarte', 'edad': '25', 'sexo': 'masculino', 'telefono': '981785632'}\n",
      "{'nombre': 'gaston', 'apellido': 'duarte', 'edad': '25', 'sexo': 'masculino', 'telefono': '981785632', 'correo': 'gaston@gmail.com'}\n",
      "{'nombre': 'gaston', 'apellido': 'duarte', 'edad': '25', 'sexo': 'masculino', 'telefono': '981785632', 'correo': 'gaston@gmail.com', 'profesion': 'estudiante'}\n"
     ]
    }
   ],
   "source": [
    "datos_personales = {}\n",
    "campos = [\"nombre\", \"apellido\", \"edad\", \"sexo\", \"telefono\", \"correo\", \"profesion\"]\n",
    "\n",
    "for i in campos:\n",
    "    datos_personales[i] = input(f\"Ingrese su {i}\")\n",
    "    print(datos_personales)"
   ]
  },
  {
   "cell_type": "code",
   "execution_count": null,
   "id": "b6202bb8",
   "metadata": {},
   "outputs": [
    {
     "name": "stdout",
     "output_type": "stream",
     "text": [
      "{'nombre': 'Gaston', 'apellido': 'Duarte', 'edad': '25'}\n",
      "si\n",
      "<built-in method keys of dict object at 0x74236c619940>\n",
      "{'nombre': 'Gaston', 'apellido': 'Duarte'}\n",
      "si\n",
      "{'nombre': 'Gaston', 'apellido': 'Duarte', 'correo': 'gaston@gaston'}\n",
      "modificar\n",
      "Los datos son {'nombre': 'Gaston', 'apellido': 'Duarte', 'correo': 'gaston@gaston'}\n"
     ]
    }
   ],
   "source": [
    "# Crear una tarjeta personal. El usuario (mediante input) puede elegir:\n",
    "\n",
    "#     Crear datos nuevos\n",
    "#     Modificar datos\n",
    "#     Eliminar datos\n",
    "\n",
    "tarjeta_personal = {\n",
    "    \"nombre\": input(\"Ingrese su nombre\"),\n",
    "    \"apellido\": input(\"Ingrese su apellido\"),\n",
    "    \"edad\": input(\"Ingrese su edad\")\n",
    "}\n",
    "\n",
    "while True:\n",
    "    print(tarjeta_personal)\n",
    "    respuesta = input(\"Si desea agregar, modificar o eliminar algun dato escriba SI. Si no desea continuar escriba NO.\").lower()\n",
    "    print(respuesta)\n",
    "\n",
    "    if respuesta == \"si\":\n",
    "        accion = input(\"Que desea hacer? agregar, modificar o eliminar datos?\")\n",
    "        if accion == \"agregar\":\n",
    "            clave = input(\"Que clase de dato desea agregar? (correo, profesion, etc)\")\n",
    "            valor = input(\"Ingrese el valor del dato\")\n",
    "            tarjeta_personal[clave]=valor\n",
    "        elif accion == \"modificar\":\n",
    "            print(tarjeta_personal.keys)\n",
    "            clave = input(\"Que dato de la lista desea modificar\")\n",
    "            valor = input(\"Ingrese el nuevo valor del dato\")\n",
    "            tarjeta_personal[clave]=valor\n",
    "        elif accion == \"eliminar\":\n",
    "            print(tarjeta_personal.keys)\n",
    "            clave = input(\"Que dato de la lista desea eliminar?\")\n",
    "            del tarjeta_personal[clave]\n",
    "    elif respuesta == \"no\":\n",
    "        print(f\"Los datos son {tarjeta_personal}\")\n",
    "        break\n",
    "    else:\n",
    "        print(\"Tipo de respuesta incorrecta.\")\n",
    "        respuesta = input(\"Si desea agregar, modificar o eliminar algun dato escriba SI. Si no desea continuar escriba NO.\")"
   ]
  },
  {
   "cell_type": "code",
   "execution_count": null,
   "id": "3a82eddf",
   "metadata": {},
   "outputs": [
    {
     "name": "stdout",
     "output_type": "stream",
     "text": [
      "Bienvenido a su lista de contactos. Abajo se detallan las acciones posibles.\n"
     ]
    },
    {
     "name": "stdout",
     "output_type": "stream",
     "text": [
      "[{'nombre': 'Jorge', 'apellido': 'Ruiz', 'nro Celular': '0981 884535'}, {'nombre': 'Gaston', 'apellido': 'Duarte', 'nro Celular': '0981 982155'}, {'nombre': 'Pedro', 'apellido': 'Gonzalez', 'Nro Celular': '0981 157963'}]\n",
      "[{'nombre': 'Jorge', 'apellido': 'Ruiz', 'nro Celular': '0981 884535'}, {'nombre': 'Gaston', 'apellido': 'Duarte', 'nro Celular': '0981 982155'}, {'nombre': 'emigdio', 'apellido': 'Gonzalez', 'Nro Celular': '0981 157963'}]\n"
     ]
    }
   ],
   "source": [
    "# Crear una lista de contactos. El usuario debe elegir si quiere ver la lista, crear un contacto nuevo o modificar algo de algun contacto\n",
    "\n",
    "lista_contactos = [\n",
    "    {\"nombre\": \"Jorge\", \"apellido\":\"Ruiz\", \"nro celular\":\"0981 884535\"},\n",
    "    {\"nombre\": \"Gaston\", \"apellido\":\"Duarte\", \"nro celular\":\"0981 982155\"},\n",
    "    {\"nombre\": \"Pedro\", \"apellido\":\"Gonzalez\", \"Nro celular\":\"0981 157963\"}\n",
    "]\n",
    "\n",
    "print(\"Bienvenido a su lista de contactos. Abajo se detallan las acciones posibles.\")\n",
    "accion = int(input(\"Si desea ver su lista de contactos, presione 1. Si desea agregar un nuevo contacto, presione 2. Si desea modificar algun dato de algun contacto, presione 3.\"))\n",
    "\n",
    "if accion == 1:\n",
    "    print(lista_contactos)\n",
    "elif accion == 2:\n",
    "    print(\"Solo puede agregar un nuevo contacto debido a que su memoria esta llena\")\n",
    "    nombre = input(\"Ingrese el nombre del nuevo contacto\")\n",
    "    apellido = input(\"Ingrese el apellido del nuevo contacto\")\n",
    "    numero = input(\"Ingrese el numero del nuevo contacto\")\n",
    "    lista_contactos.append({\"nombre\":nombre,\"apellido\":apellido, \"nro celular\":numero})\n",
    "    print(lista_contactos)\n",
    "elif accion == 3:\n",
    "    print(lista_contactos)\n",
    "    eleccion_modificacion = int(input(\"Elija cual contacto desea modificar. 1 para el primero, 2 para el segundo y asi sucesivamente\"))\n",
    "    if eleccion_modificacion == 1:\n",
    "        eleccion_modificacion = 0\n",
    "    elif eleccion_modificacion == 2:\n",
    "        eleccion_modificacion = 1\n",
    "    elif eleccion_modificacion == 3:\n",
    "        eleccion_modificacion = 2\n",
    "    elif eleccion_modificacion == 4:\n",
    "        eleccion_modificacion = 3\n",
    "    clave = input(\"Que dato desea modificar de esta lista?\")\n",
    "    valor = input(\"Ingrese el nuevo valor\")\n",
    "    lista_contactos[eleccion_modificacion][clave]=valor\n",
    "    print(lista_contactos)\n"
   ]
  },
  {
   "cell_type": "code",
   "execution_count": 46,
   "id": "06eefa0f",
   "metadata": {},
   "outputs": [
    {
     "name": "stdout",
     "output_type": "stream",
     "text": [
      "Cuando llego a casa mi perro marron viene y me muerde el brazo queriendo jugar pero duele un monton\n",
      "Cuando escucha 'sentarse' mi pastor aleman se sienta y espera comida\n"
     ]
    }
   ],
   "source": [
    "class Perro:\n",
    "    #Caracteristicas comunes de todos los objetos\n",
    "    ojos = 2\n",
    "    patas = 4\n",
    "    tipo = \"perruno\"\n",
    "\n",
    "    #Caracterisiticas de instancia (caracteristicas propias de cada objeto)\n",
    "    def __init__(self,color, raza):\n",
    "        self.color = color\n",
    "        self.raza = raza\n",
    "\n",
    "    # Metodos (acciones que realiza el objeto)\n",
    "    def saludo_ataque(self):\n",
    "        return(f\"Cuando llego a casa mi perro {self.color} viene y me muerde el brazo queriendo jugar pero duele un monton\")\n",
    "    \n",
    "    def sentarse(self):\n",
    "        return (f\"Cuando escucha 'sentarse' mi {self.raza} se sienta y espera comida\")\n",
    "    \n",
    "jager = Perro(\"marron\", \"pastor aleman\")\n",
    "\n",
    "print(jager.saludo_ataque())\n",
    "print(jager.sentarse())"
   ]
  },
  {
   "cell_type": "code",
   "execution_count": 48,
   "id": "e0ace5db",
   "metadata": {},
   "outputs": [
    {
     "name": "stdout",
     "output_type": "stream",
     "text": [
      "El cachorro es de color negro y tiene una corbata blanca de manera natural\n",
      "El cachorrito de raza pug duerme casi todo el dia, hay que aprovechar mientras se pueda\n"
     ]
    }
   ],
   "source": [
    "class Perrito(Perro):\n",
    "    def color_pelaje(self):\n",
    "        return (f\"El cachorro es de color {self.color} y tiene una corbata blanca de manera natural\")\n",
    "    \n",
    "    def duerme(self):\n",
    "        return (f\"El cachorrito de raza {self.raza} duerme casi todo el dia, hay que aprovechar mientras se pueda\")\n",
    "    \n",
    "tiger = Perrito(\"negro\", \"pug\")\n",
    "\n",
    "print(tiger.color_pelaje())\n",
    "print(tiger.duerme())"
   ]
  }
 ],
 "metadata": {
  "kernelspec": {
   "display_name": ".venv",
   "language": "python",
   "name": "python3"
  },
  "language_info": {
   "codemirror_mode": {
    "name": "ipython",
    "version": 3
   },
   "file_extension": ".py",
   "mimetype": "text/x-python",
   "name": "python",
   "nbconvert_exporter": "python",
   "pygments_lexer": "ipython3",
   "version": "3.12.3"
  }
 },
 "nbformat": 4,
 "nbformat_minor": 5
}
