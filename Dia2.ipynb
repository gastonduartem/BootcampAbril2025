{
 "cells": [
  {
   "cell_type": "code",
   "execution_count": 10,
   "id": "cd81a928",
   "metadata": {},
   "outputs": [
    {
     "name": "stdout",
     "output_type": "stream",
     "text": [
      "Podes tomar pero no comprar\n"
     ]
    }
   ],
   "source": [
    "# Se escribe un programa que pregunte por su edad y asi se vea si es que puede tomar y/o comprar alcohol\n",
    "\n",
    "edad = int(input(\"Cual es su edad?\"))\n",
    "\n",
    "if edad >= 21:\n",
    "    print(\"Hace lo que quieras\")\n",
    "elif edad < 18:\n",
    "    print(\"Juguito nomas\")\n",
    "else:\n",
    "    print(\"Podes tomar pero no comprar\") "
   ]
  },
  {
   "cell_type": "code",
   "execution_count": 23,
   "id": "280fa961",
   "metadata": {},
   "outputs": [
    {
     "name": "stdout",
     "output_type": "stream",
     "text": [
      "True\n"
     ]
    }
   ],
   "source": [
    "# \n",
    "trabaja = input(\"Trabaja?\")\n",
    "if trabaja == \"Si\":\n",
    "    trabaja = True\n",
    "elif trabaja == \"No\":\n",
    "    trabaja =  False\n",
    "else:\n",
    "    print(\"Ingrese una respuesta valida\")\n",
    "trabaja = bool(trabaja)\n",
    "print (trabaja)"
   ]
  },
  {
   "cell_type": "code",
   "execution_count": null,
   "id": "7c716e67",
   "metadata": {},
   "outputs": [
    {
     "name": "stdout",
     "output_type": "stream",
     "text": [
      "Ñamano mba'e\n"
     ]
    }
   ],
   "source": [
    "# Se solicita una temperatura y se categoriza\n",
    "\n",
    "temperatura = int(input(\"Ingrese cual es la temperatura.\"))\n",
    "\n",
    "if temperatura >= -10 and temperatura <= 18:\n",
    "    print(\"Fresquete\")\n",
    "elif temperatura >= 19 and temperatura <= 30:\n",
    "    print(\"Calor'i\")\n",
    "elif temperatura >= 31 and temperatura <= 45:\n",
    "    print(\"Haku viejo\")\n",
    "else:\n",
    "    print(\"Ñamano mba'e\")"
   ]
  },
  {
   "cell_type": "code",
   "execution_count": null,
   "id": "44e62d2a",
   "metadata": {},
   "outputs": [
    {
     "name": "stdout",
     "output_type": "stream",
     "text": [
      "Ante todo pronostico lograste adivinar, que milagro\n"
     ]
    }
   ],
   "source": [
    "# Pregunta al usuario por una contraseña y cuando lo logre, imprima un mensaje secreto\n",
    "\n",
    "contrasena_correcta = \"penguin123\"\n",
    "\n",
    "while True:\n",
    "    contrasena = input(\"Introduzca cual cree es la contraseña...\")\n",
    "    if contrasena == contrasena_correcta:\n",
    "        print(\"Ante todo pronostico lograste adivinar, que milagro\")\n",
    "        break\n",
    "    else:\n",
    "        print(\"No te pienso dar pistas, segui intentando\")"
   ]
  },
  {
   "cell_type": "code",
   "execution_count": null,
   "id": "dbc47364",
   "metadata": {},
   "outputs": [
    {
     "name": "stdout",
     "output_type": "stream",
     "text": [
      "['Olimpia', 'Guarani', 'Cerro Frio', 'Nacional', 'Libertad', '2 de Mayo']\n",
      "['Olimpia', 'Sol de America', 'Cerro Frio', 'Nacional', 'Libertad', '2 de Mayo']\n",
      "['Olimpia', 'Sol de America', 'Nacional', 'Libertad', '2 de Mayo']\n"
     ]
    }
   ],
   "source": [
    "# Crear una lista de 5 elementos. Agregar 1, modificar el 2do y eliminar el 3ro\n",
    "\n",
    "lista_clubes_py = [\"Olimpia\", \"Guarani\",\"Cerro Frio\", \"Nacional\", \"Libertad\"]\n",
    "\n",
    "lista_clubes_py.append(\"2 de Mayo\")\n",
    "print(lista_clubes_py)\n",
    "\n",
    "lista_clubes_py[1] = \"Sol de America\"\n",
    "print(lista_clubes_py)\n",
    "\n",
    "lista_clubes_py.pop(2)\n",
    "print(lista_clubes_py)"
   ]
  },
  {
   "cell_type": "code",
   "execution_count": null,
   "id": "bd23cd95",
   "metadata": {},
   "outputs": [
    {
     "name": "stdout",
     "output_type": "stream",
     "text": [
      "0 x 2 = 0\n",
      "1 x 2 = 2\n",
      "2 x 2 = 4\n",
      "3 x 2 = 6\n",
      "4 x 2 = 8\n",
      "5 x 2 = 10\n",
      "6 x 2 = 12\n",
      "7 x 2 = 14\n",
      "8 x 2 = 16\n",
      "9 x 2 = 18\n"
     ]
    }
   ],
   "source": [
    "# EScribir un programa que itere en un rango 10 veces, por cada iteracion multiplicar el iterador por dos e imprimir el resultado\n",
    "\n",
    "for resultado in range(10):\n",
    "    resultado_final = resultado * 2\n",
    "    print(f\"{resultado} x 2 = {resultado_final}\")"
   ]
  },
  {
   "cell_type": "code",
   "execution_count": 24,
   "id": "c34286cc",
   "metadata": {},
   "outputs": [
    {
     "name": "stdout",
     "output_type": "stream",
     "text": [
      "Adidas\n",
      "Samsung\n",
      "Microsoft\n",
      "Google\n",
      "Amazon\n",
      "Coca-Cola\n",
      "Toyota\n"
     ]
    }
   ],
   "source": [
    "# Recorrer los elementos de una lista de marcas e imprimir las marcas que tengan 6 letras o mas\n",
    "\n",
    "lista_marcas = [\"Nike\", \"Adidas\", \"Puma\", \"Apple\", \"Samsung\", \"Sony\", \"Microsoft\", \"Google\", \"Amazon\", \"Coca-Cola\", \"Pepsi\", \"Toyota\", \"Ford\", \"BMW\", \"Intel\"]\n",
    "\n",
    "for i in lista_marcas:\n",
    "    longitud =len(i)\n",
    "    if longitud >= 6:\n",
    "        print(i)"
   ]
  },
  {
   "cell_type": "code",
   "execution_count": 7,
   "id": "f871c60b",
   "metadata": {},
   "outputs": [
    {
     "name": "stdout",
     "output_type": "stream",
     "text": [
      "hola que tal soy hincha de Olimpia\n",
      "Encontre una letra 'o': o\n",
      "Encontre una letra 'o': o\n",
      "Encontre una letra 'o': O\n"
     ]
    }
   ],
   "source": [
    "# Que el usuario ingrese una frase e imprima un mensaje cada vez que se encuentre una letra \"o\"\n",
    "\n",
    "frase_usuario = input(\"Ingrese una frase\")\n",
    "print(frase_usuario)\n",
    "\n",
    "for i in frase_usuario:\n",
    "    if i== \"o\" or i==\"O\":\n",
    "        print(f\"Encontre una letra 'o': {i}\")"
   ]
  },
  {
   "cell_type": "code",
   "execution_count": null,
   "id": "8c51d362",
   "metadata": {},
   "outputs": [],
   "source": [
    "# Repaso de todo lo que fuimos haciendo\n",
    "\n"
   ]
  }
 ],
 "metadata": {
  "kernelspec": {
   "display_name": ".venv",
   "language": "python",
   "name": "python3"
  },
  "language_info": {
   "codemirror_mode": {
    "name": "ipython",
    "version": 3
   },
   "file_extension": ".py",
   "mimetype": "text/x-python",
   "name": "python",
   "nbconvert_exporter": "python",
   "pygments_lexer": "ipython3",
   "version": "3.12.3"
  }
 },
 "nbformat": 4,
 "nbformat_minor": 5
}
